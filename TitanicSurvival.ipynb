{
  "nbformat": 4,
  "nbformat_minor": 0,
  "metadata": {
    "colab": {
      "provenance": []
    },
    "kernelspec": {
      "name": "python3",
      "display_name": "Python 3"
    },
    "language_info": {
      "name": "python"
    }
  },
  "cells": [
    {
      "cell_type": "code",
      "execution_count": 4,
      "metadata": {
        "colab": {
          "base_uri": "https://localhost:8080/"
        },
        "id": "m36q4n6UyQR5",
        "outputId": "682711d3-db79-483e-a514-ff4c4553c520"
      },
      "outputs": [
        {
          "output_type": "stream",
          "name": "stdout",
          "text": [
            "Logistic Regression Metrics:\n",
            "  Accuracy: 0.81\n",
            "  Mean Absolute Error (MAE): 0.19\n",
            "  Mean Squared Error (MSE): 0.19\n",
            "  R² Score: 0.22\n",
            "  Explained Variance: 0.22\n",
            "  Training/Prediction Time: 0.0038s\n",
            "\n",
            "Random Forest Metrics:\n",
            "  Accuracy: 0.81\n",
            "  Mean Absolute Error (MAE): 0.19\n",
            "  Mean Squared Error (MSE): 0.19\n",
            "  R² Score: 0.22\n",
            "  Explained Variance: 0.22\n",
            "  Training/Prediction Time: 0.2040s\n"
          ]
        }
      ],
      "source": [
        "# Import Libraries\n",
        "import pandas as pd\n",
        "import time\n",
        "from sklearn.model_selection import train_test_split\n",
        "from sklearn.preprocessing import StandardScaler\n",
        "from sklearn.linear_model import LogisticRegression\n",
        "from sklearn.ensemble import RandomForestClassifier\n",
        "from sklearn.metrics import accuracy_score, mean_absolute_error, mean_squared_error, r2_score, explained_variance_score\n",
        "\n",
        "# Load the Data\n",
        "data = pd.read_csv('train.csv')\n",
        "\n",
        "# Data Preprocessing\n",
        "data['Age'].fillna(data['Age'].median(), inplace=True)\n",
        "data['Embarked'].fillna(data['Embarked'].mode()[0], inplace=True)\n",
        "data = pd.get_dummies(data, columns=['Sex', 'Embarked'], drop_first=True)\n",
        "\n",
        "# Select Features and Target Variable\n",
        "features = data[['Pclass', 'Age', 'SibSp', 'Parch', 'Fare', 'Sex_male', 'Embarked_Q', 'Embarked_S']]\n",
        "target = data['Survived']\n",
        "\n",
        "# Split the Data\n",
        "X_train, X_test, y_train, y_test = train_test_split(features, target, test_size=0.2, random_state=42)\n",
        "\n",
        "# Feature Scaling\n",
        "scaler = StandardScaler()\n",
        "X_train = scaler.fit_transform(X_train)\n",
        "X_test = scaler.transform(X_test)\n",
        "\n",
        "# Logistic Regression Model\n",
        "logistic_model = LogisticRegression()\n",
        "start_time = time.time()\n",
        "logistic_model.fit(X_train, y_train)\n",
        "y_pred_logistic = logistic_model.predict(X_test)\n",
        "logistic_time = time.time() - start_time\n",
        "\n",
        "# Random Forest Classifier Model\n",
        "rf_model = RandomForestClassifier()\n",
        "start_time = time.time()\n",
        "rf_model.fit(X_train, y_train)\n",
        "y_pred_rf = rf_model.predict(X_test)\n",
        "rf_time = time.time() - start_time\n",
        "\n",
        "# Evaluation Metrics\n",
        "def evaluate_model(y_true, y_pred):\n",
        "    accuracy = accuracy_score(y_true, y_pred)\n",
        "    mae = mean_absolute_error(y_true, y_pred)\n",
        "    mse = mean_squared_error(y_true, y_pred)\n",
        "    r2 = r2_score(y_true, y_pred)\n",
        "    explained_var = explained_variance_score(y_true, y_pred)\n",
        "\n",
        "    return accuracy, mae, mse, r2, explained_var\n",
        "\n",
        "# Logistic Regression Metrics\n",
        "logistic_metrics = evaluate_model(y_test, y_pred_logistic)\n",
        "print(\"Logistic Regression Metrics:\")\n",
        "print(f\"  Accuracy: {logistic_metrics[0]:.2f}\")\n",
        "print(f\"  Mean Absolute Error (MAE): {logistic_metrics[1]:.2f}\")\n",
        "print(f\"  Mean Squared Error (MSE): {logistic_metrics[2]:.2f}\")\n",
        "print(f\"  R² Score: {logistic_metrics[3]:.2f}\")\n",
        "print(f\"  Explained Variance: {logistic_metrics[4]:.2f}\")\n",
        "print(f\"  Training/Prediction Time: {logistic_time:.4f}s\\n\")\n",
        "\n",
        "# Random Forest Metrics\n",
        "rf_metrics = evaluate_model(y_test, y_pred_rf)\n",
        "print(\"Random Forest Metrics:\")\n",
        "print(f\"  Accuracy: {rf_metrics[0]:.2f}\")\n",
        "print(f\"  Mean Absolute Error (MAE): {rf_metrics[1]:.2f}\")\n",
        "print(f\"  Mean Squared Error (MSE): {rf_metrics[2]:.2f}\")\n",
        "print(f\"  R² Score: {rf_metrics[3]:.2f}\")\n",
        "print(f\"  Explained Variance: {rf_metrics[4]:.2f}\")\n",
        "print(f\"  Training/Prediction Time: {rf_time:.4f}s\")"
      ]
    }
  ]
}